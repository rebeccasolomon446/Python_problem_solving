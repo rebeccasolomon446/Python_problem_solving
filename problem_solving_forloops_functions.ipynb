{
 "cells": [
  {
   "cell_type": "code",
   "execution_count": 73,
   "id": "45a1d1c4-29d5-4a00-9a30-86f7cfc1fd8b",
   "metadata": {
    "tags": []
   },
   "outputs": [],
   "source": [
    "#String methods"
   ]
  },
  {
   "cell_type": "code",
   "execution_count": 28,
   "id": "943f90b1",
   "metadata": {},
   "outputs": [],
   "source": [
    "first_name = 'rebecca'"
   ]
  },
  {
   "cell_type": "code",
   "execution_count": null,
   "id": "8f31926f-4a67-47a2-98e4-14c81002d968",
   "metadata": {},
   "outputs": [],
   "source": [
    "# method to capitalise the first letter in a string\n",
    "first_name.capitalize()"
   ]
  },
  {
   "cell_type": "code",
   "execution_count": null,
   "id": "4471de37-0818-48ab-89f3-743f1d477f7f",
   "metadata": {},
   "outputs": [],
   "source": [
    "#method to transform the full string to upper case \n",
    "first_name.upper()"
   ]
  },
  {
   "cell_type": "code",
   "execution_count": null,
   "id": "6a34960a-8f7b-4845-a953-4cdd93c7a48e",
   "metadata": {},
   "outputs": [],
   "source": [
    "# method to check if string is lower case (will check the origional variable)\n",
    "first_name.islower()"
   ]
  },
  {
   "cell_type": "code",
   "execution_count": null,
   "id": "b9550a6a-42ee-46a7-9577-706846bcdc64",
   "metadata": {},
   "outputs": [],
   "source": [
    "# List Methods"
   ]
  },
  {
   "cell_type": "code",
   "execution_count": 13,
   "id": "4954c4ff",
   "metadata": {},
   "outputs": [],
   "source": [
    "numbers_list = [1,2,3,4,5]"
   ]
  },
  {
   "cell_type": "code",
   "execution_count": 14,
   "id": "4fb451af",
   "metadata": {},
   "outputs": [
    {
     "name": "stdout",
     "output_type": "stream",
     "text": [
      "[1, 2, 3, 4, 5]\n"
     ]
    }
   ],
   "source": [
    "print(numbers_list)"
   ]
  },
  {
   "cell_type": "code",
   "execution_count": null,
   "id": "81ad86f1-69c9-4347-bf43-ecf1714224f2",
   "metadata": {},
   "outputs": [],
   "source": [
    "# method to add element to end of list. will append to most recent list stored in memory rather than the original string\n",
    "numbers_list.append(6)\n",
    "print(numbers_list)"
   ]
  },
  {
   "cell_type": "code",
   "execution_count": null,
   "id": "071e2777-4043-4bd2-9acd-303f6778e2aa",
   "metadata": {},
   "outputs": [],
   "source": [
    "# can use remove method and specify which element to remove\n",
    "numbers_list.remove(6)"
   ]
  },
  {
   "cell_type": "code",
   "execution_count": 18,
   "id": "010df57d",
   "metadata": {},
   "outputs": [
    {
     "name": "stdout",
     "output_type": "stream",
     "text": [
      "[1, 2, 3, 4, 5, 6]\n"
     ]
    }
   ],
   "source": [
    "print(numbers_list)"
   ]
  },
  {
   "cell_type": "code",
   "execution_count": 24,
   "id": "de2f1131",
   "metadata": {},
   "outputs": [],
   "source": [
    "numbers_list.remove(numbers_list[1])"
   ]
  },
  {
   "cell_type": "code",
   "execution_count": 26,
   "id": "3699cebf",
   "metadata": {},
   "outputs": [
    {
     "name": "stdout",
     "output_type": "stream",
     "text": [
      "[1, 4, 5, 6]\n"
     ]
    }
   ],
   "source": [
    "print(numbers_list)"
   ]
  },
  {
   "cell_type": "code",
   "execution_count": null,
   "id": "8b4bddb6-6b8c-4d9c-822c-40181d7b2569",
   "metadata": {},
   "outputs": [],
   "source": [
    "# user input methods\n",
    "# asking user to input their name:"
   ]
  },
  {
   "cell_type": "code",
   "execution_count": 21,
   "id": "09a4cd0f",
   "metadata": {},
   "outputs": [
    {
     "name": "stdin",
     "output_type": "stream",
     "text": [
      "What is your name? rebz\n"
     ]
    },
    {
     "name": "stdout",
     "output_type": "stream",
     "text": [
      "Hello, rebz\n"
     ]
    }
   ],
   "source": [
    "name = input('What is your name?')\n",
    "print(f'Hello, {name}') # could also be print(f\"Hello, {}\".format(name))"
   ]
  },
  {
   "cell_type": "code",
   "execution_count": 23,
   "id": "d66e26fb",
   "metadata": {},
   "outputs": [
    {
     "name": "stdin",
     "output_type": "stream",
     "text": [
      "Where are you from? london\n"
     ]
    },
    {
     "name": "stdout",
     "output_type": "stream",
     "text": [
      "Hello, rebz, what is the weather like in london?\n"
     ]
    }
   ],
   "source": [
    "country = input('Where are you from?')\n",
    "print(f'Hello, {name}, what is the weather like in {country}?')"
   ]
  },
  {
   "cell_type": "code",
   "execution_count": null,
   "id": "91e35359-fed2-4baa-bb6b-abe3472aa11a",
   "metadata": {},
   "outputs": [],
   "source": [
    "# better to assign inputs to variables so they can be used more than once"
   ]
  },
  {
   "cell_type": "code",
   "execution_count": null,
   "id": "23c51679-b799-457e-97e7-e10a1c084d99",
   "metadata": {},
   "outputs": [],
   "source": [
    "# By default, input returns the user input as a string\n",
    "# Can convert string value by using int function"
   ]
  },
  {
   "cell_type": "code",
   "execution_count": 33,
   "id": "14b5d72c-56b4-4362-9d19-987fbd0f9655",
   "metadata": {},
   "outputs": [
    {
     "name": "stdin",
     "output_type": "stream",
     "text": [
      "How many eggs are in the fridge? 12\n",
      "How many eggs have you eaten? 4\n"
     ]
    },
    {
     "name": "stdout",
     "output_type": "stream",
     "text": [
      "You have 8 eggs left in the fridge\n"
     ]
    }
   ],
   "source": [
    "eggs_owned = input('How many eggs are in the fridge?')\n",
    "# to shorten could do  int(input('How many eggs are in the fridge?'))\n",
    "eggs_eaten = input('How many eggs have you eaten?')\n",
    "eggs_left = int(eggs_owned) - int(eggs_eaten)\n",
    "print(f'You have {eggs_left} eggs left in the fridge')\n",
    "\n",
    "# Or you can transform the string value of the number to an int at the very end when it is printed"
   ]
  },
  {
   "cell_type": "code",
   "execution_count": 39,
   "id": "745d57f2-d042-4e3b-81e0-c486361440ea",
   "metadata": {},
   "outputs": [],
   "source": [
    "# math module that provides fucntions that deal with various mathematical operations\n",
    "import math"
   ]
  },
  {
   "cell_type": "code",
   "execution_count": 40,
   "id": "787a3a0f-0354-49fe-8c6c-bad83f65d83f",
   "metadata": {},
   "outputs": [
    {
     "data": {
      "text/plain": [
       "16.0"
      ]
     },
     "execution_count": 40,
     "metadata": {},
     "output_type": "execute_result"
    }
   ],
   "source": [
    "# pow() method takes in two float arguments and raises the first to the power of the second\n",
    "math.pow(2,4)"
   ]
  },
  {
   "cell_type": "code",
   "execution_count": 41,
   "id": "7b641642-d10d-44e4-a69b-6c7e0ef05967",
   "metadata": {},
   "outputs": [
    {
     "data": {
      "text/plain": [
       "9.0"
      ]
     },
     "execution_count": 41,
     "metadata": {},
     "output_type": "execute_result"
    }
   ],
   "source": [
    "# sqrt() method returns the square root of a given number\n",
    "math.sqrt(81)"
   ]
  },
  {
   "cell_type": "code",
   "execution_count": 42,
   "id": "9fb0317b-e6d5-41e3-8435-1818bd105532",
   "metadata": {},
   "outputs": [
    {
     "name": "stdout",
     "output_type": "stream",
     "text": [
      "3.141592653589793\n"
     ]
    }
   ],
   "source": [
    "print(math.pi)"
   ]
  },
  {
   "cell_type": "code",
   "execution_count": 43,
   "id": "00061de1-8592-4a12-bf7b-7ef958ff81f9",
   "metadata": {},
   "outputs": [],
   "source": [
    "# random module generates preudo-random variables\n",
    "# can be used to perform some action randomly like: shuffle elements randomly, select random elements from\n",
    "#a list etc.\n",
    "import random"
   ]
  },
  {
   "cell_type": "code",
   "execution_count": 46,
   "id": "0d298619-bbd5-4475-95d0-e110f471af41",
   "metadata": {},
   "outputs": [
    {
     "data": {
      "text/plain": [
       "0.7519091784299372"
      ]
     },
     "execution_count": 46,
     "metadata": {},
     "output_type": "execute_result"
    }
   ],
   "source": [
    "# generating random floats\n",
    "random.random()"
   ]
  },
  {
   "cell_type": "code",
   "execution_count": 51,
   "id": "2779706a-c3a5-4642-9747-2f3a55079f48",
   "metadata": {},
   "outputs": [
    {
     "data": {
      "text/plain": [
       "77"
      ]
     },
     "execution_count": 51,
     "metadata": {},
     "output_type": "execute_result"
    }
   ],
   "source": [
    "# generating random int between specified range\n",
    "random.randint(1,100)"
   ]
  },
  {
   "cell_type": "code",
   "execution_count": 52,
   "id": "899639e3-f653-4156-be98-864fdde9e2ba",
   "metadata": {},
   "outputs": [],
   "source": [
    "# For loops - allow us to repeat block of code multiple times"
   ]
  },
  {
   "cell_type": "code",
   "execution_count": 53,
   "id": "0b219408-8dad-4729-9d85-02144ddc0c04",
   "metadata": {},
   "outputs": [
    {
     "name": "stdout",
     "output_type": "stream",
     "text": [
      "cake\n",
      "fruit\n",
      "veg\n"
     ]
    }
   ],
   "source": [
    "# if we have a long with with 1000+ items, printing each one will take long\n",
    "# so using a for loop will be easier\n",
    "grocery_list = ['cake', 'fruit', 'veg']\n",
    "for item in grocery_list:\n",
    "    print(item)"
   ]
  },
  {
   "cell_type": "code",
   "execution_count": 59,
   "id": "852972f0-ce82-4b35-b85d-60475bdaa009",
   "metadata": {},
   "outputs": [
    {
     "name": "stdout",
     "output_type": "stream",
     "text": [
      "This number is: 0\n",
      "This number is: 1\n",
      "This number is: 2\n",
      "This number is: 3\n",
      "This number is: 4\n",
      "This number is: 5\n",
      "This number is: 6\n",
      "This number is: 7\n",
      "This number is: 8\n",
      "This number is: 9\n"
     ]
    }
   ],
   "source": [
    "# range() function makes a loop repeat a certain number of times, starts counting from 0, pass integer to range()\n",
    "# can specify a starting point -> range(1,10)\n",
    "for number in range(10):\n",
    "    print(f'This number is: {number}')\n",
    "    # could multiply each number by 10 -> print(number*10)"
   ]
  },
  {
   "cell_type": "code",
   "execution_count": 60,
   "id": "8a4ed3ca-ec5c-46bb-8c35-84391d84c263",
   "metadata": {},
   "outputs": [
    {
     "name": "stdout",
     "output_type": "stream",
     "text": [
      "R\n",
      "e\n",
      "b\n",
      "e\n",
      "c\n",
      "c\n",
      "a\n"
     ]
    }
   ],
   "source": [
    "# printing each letter in a string\n",
    "for char in 'Rebecca':\n",
    "   print(char) "
   ]
  },
  {
   "cell_type": "code",
   "execution_count": 64,
   "id": "bbd079c1-a779-4bd5-9c66-43a8db5276be",
   "metadata": {},
   "outputs": [
    {
     "name": "stdout",
     "output_type": "stream",
     "text": [
      "the total at number 0 is 0\n",
      "the total at number 1 is 1\n",
      "the total at number 2 is 3\n",
      "the total at number 3 is 6\n",
      "the total at number 4 is 10\n",
      "the total at number 5 is 15\n",
      "the total at number 6 is 21\n",
      "the total at number 7 is 28\n",
      "the total at number 8 is 36\n",
      "the total at number 9 is 45\n",
      "the final sum is 45\n"
     ]
    }
   ],
   "source": [
    "# summing numbers in a range \n",
    "sum = 0\n",
    "for number in range(10):\n",
    "    sum+=number\n",
    "    print(f'the total at number {number} is {sum}')\n",
    "print(f'the final sum is {sum}')"
   ]
  },
  {
   "cell_type": "code",
   "execution_count": 65,
   "id": "0fcf6bd6-f25a-4506-97e4-e632072aa717",
   "metadata": {},
   "outputs": [],
   "source": [
    "# functions\n",
    "def greet():\n",
    "    print('hello')"
   ]
  },
  {
   "cell_type": "code",
   "execution_count": 66,
   "id": "b51d7456-3aa7-4ca8-a7da-cfce8b43d965",
   "metadata": {},
   "outputs": [
    {
     "name": "stdout",
     "output_type": "stream",
     "text": [
      "hello\n"
     ]
    }
   ],
   "source": [
    "greet()"
   ]
  },
  {
   "cell_type": "code",
   "execution_count": 69,
   "id": "cc401d36-e543-447f-b71c-405b56dd5d36",
   "metadata": {},
   "outputs": [
    {
     "data": {
      "text/plain": [
       "10"
      ]
     },
     "execution_count": 69,
     "metadata": {},
     "output_type": "execute_result"
    }
   ],
   "source": [
    "# define a function\n",
    "def add(a,b):\n",
    "    return a+b\n",
    "\n",
    "# need to CALL a funtion to make it run the code\n",
    "add(2,8)"
   ]
  },
  {
   "cell_type": "code",
   "execution_count": 72,
   "id": "56b6e4a6-6e20-4168-8f2b-dd117aa7e417",
   "metadata": {},
   "outputs": [
    {
     "data": {
      "text/plain": [
       "27"
      ]
     },
     "execution_count": 72,
     "metadata": {},
     "output_type": "execute_result"
    }
   ],
   "source": [
    "# can assign the result of a function to a variable\n",
    "value1 = add(5,9)\n",
    "value2 = add(10,3)\n",
    "\n",
    "result = add(value1,value2)\n",
    "result"
   ]
  },
  {
   "cell_type": "code",
   "execution_count": 76,
   "id": "0f3bcc1b-9388-4a33-8724-c91b60157f91",
   "metadata": {},
   "outputs": [
    {
     "name": "stdout",
     "output_type": "stream",
     "text": [
      "Final sum is:  50\n"
     ]
    }
   ],
   "source": [
    "sum =5\n",
    "for number in range(10):\n",
    "    sum +=number\n",
    "print('Final sum is: ', sum)"
   ]
  },
  {
   "cell_type": "code",
   "execution_count": null,
   "id": "172d40e0-8acb-4435-aea4-909eca20aeff",
   "metadata": {},
   "outputs": [],
   "source": []
  }
 ],
 "metadata": {
  "kernelspec": {
   "display_name": "Python 3 (ipykernel)",
   "language": "python",
   "name": "python3"
  },
  "language_info": {
   "codemirror_mode": {
    "name": "ipython",
    "version": 3
   },
   "file_extension": ".py",
   "mimetype": "text/x-python",
   "name": "python",
   "nbconvert_exporter": "python",
   "pygments_lexer": "ipython3",
   "version": "3.9.13"
  }
 },
 "nbformat": 4,
 "nbformat_minor": 5
}
